{
 "cells": [
  {
   "cell_type": "code",
   "execution_count": 11,
   "id": "48e88102",
   "metadata": {},
   "outputs": [],
   "source": [
    "import cv2\n",
    "import numpy as np"
   ]
  },
  {
   "cell_type": "code",
   "execution_count": 12,
   "id": "3737b516",
   "metadata": {},
   "outputs": [],
   "source": [
    "cap = cv2.VideoCapture(\"car.mp4\")"
   ]
  },
  {
   "cell_type": "code",
   "execution_count": 13,
   "id": "a3ba0202",
   "metadata": {},
   "outputs": [],
   "source": [
    "_,first_frame = cap.read() \n",
    "first_frame = cv2.resize(first_frame,(640,480))\n",
    "first_gray = cv2.cvtColor(first_frame,cv2.COLOR_BGR2GRAY)\n",
    "first_gray = cv2.GaussianBlur(first_gray,(5,5),0)\n"
   ]
  },
  {
   "cell_type": "code",
   "execution_count": null,
   "id": "c8e0370b",
   "metadata": {},
   "outputs": [],
   "source": []
  },
  {
   "cell_type": "code",
   "execution_count": 14,
   "id": "17920e4c",
   "metadata": {},
   "outputs": [],
   "source": [
    "while True:\n",
    "    _,frame = cap.read() \n",
    "    frame=cv2.resize(frame,(640,480))\n",
    "    gray = cv2.cvtColor(frame,cv2.COLOR_BGR2GRAY)\n",
    "    gray = cv2.GaussianBlur(gray,(5,5),0)\n",
    "    \n",
    "    diff = cv2.absdiff(first_gray,gray)\n",
    "    \n",
    "    _,diff = cv2.threshold(diff,25,255,cv2.THRESH_BINARY)\n",
    "    \n",
    "    cv2.imshow(\"frame\",frame)\n",
    "    #cv2.imshow(\"fF\",first_frame)\n",
    "    cv2.imshow(\"diff\",diff)\n",
    "    \n",
    "    \n",
    "    if cv2.waitKey(20)&0xFF == ord(\"q\"):\n",
    "        break\n",
    "        \n",
    "        \n",
    "        \n",
    "cap.release()\n",
    "cv2.destroyAllWindows()"
   ]
  },
  {
   "cell_type": "code",
   "execution_count": null,
   "id": "da3ca587",
   "metadata": {},
   "outputs": [],
   "source": []
  }
 ],
 "metadata": {
  "kernelspec": {
   "display_name": "Python 3 (ipykernel)",
   "language": "python",
   "name": "python3"
  },
  "language_info": {
   "codemirror_mode": {
    "name": "ipython",
    "version": 3
   },
   "file_extension": ".py",
   "mimetype": "text/x-python",
   "name": "python",
   "nbconvert_exporter": "python",
   "pygments_lexer": "ipython3",
   "version": "3.9.18"
  }
 },
 "nbformat": 4,
 "nbformat_minor": 5
}
